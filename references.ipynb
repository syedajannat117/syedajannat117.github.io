{
 "cells": [
  {
   "cell_type": "markdown",
   "metadata": {},
   "source": [
    "## Dataset\n",
    "If we need dataset to train machine learning models, it could be text, numerical, images. Following two popular repository we can use for getting datasets. We can easily download the dataset we are looking for. Among those, Kaggle is most popular where it's platform of joinging in a competition which could be either awared or not. Usually those competitions are marathon.\n"
   ]
  },
  {
   "cell_type": "code",
   "execution_count": null,
   "metadata": {},
   "outputs": [],
   "source": [
    "Kaggle: https://www.kaggle.com/datasets\n",
    "Uci machine learning repository: https://archive.ics.uci.edu/datasets"
   ]
  },
  {
   "cell_type": "markdown",
   "metadata": {},
   "source": [
    "## Models\n",
    "The models we use during traing could be written code of whole model architecture, or could be model already in pytorch or tensorflow or in hugging-face. There are lots of pre-trained model, we will in hugging-face model hub even we can upload our trained model for ther others usages. It is a good concept uploading model into huggin-face model hub, so that other researchers or users can get models which one is needed for them without writing lots of line code to train their models.\n",
    "Following are the links where pre-trained model are available."
   ]
  },
  {
   "cell_type": "code",
   "execution_count": null,
   "metadata": {},
   "outputs": [],
   "source": [
    "Kaggle: https://www.kaggle.com/models\n",
    "Hugging-face: https://huggingface.co/models"
   ]
  },
  {
   "cell_type": "markdown",
   "metadata": {},
   "source": [
    "# Jupyter Note Book\n",
    "We can write python code in jupyter note book. Python code is manageable in notebook, as it provides interface like cell by cell that is very useful for writing block or portor of entire implementation. We can use offline jupyter version in our local pc as well as installing pulgin into vscode ide. On the other hand, if we want to use virtual jupyter notebook and need high performing gpu and tpu for large dataset training. Google Colab and Kaggle is two popular site for virtual jupyter note book. Your will find a comparison between Google Colab and Kaggle, here (https://medium.com/@ahmadsabry678/a-comparison-between-google-colab-and-kaggle-2ee3a5f65e)"
   ]
  },
  {
   "cell_type": "code",
   "execution_count": null,
   "metadata": {},
   "outputs": [],
   "source": [
    "Google Colab: https://colab.research.google.com/\n",
    "Kaggle: https://www.kaggle.com/code/scratchpad/notebook1b9bf8c497/edit"
   ]
  }
 ],
 "metadata": {
  "language_info": {
   "name": "python"
  },
  "orig_nbformat": 4
 },
 "nbformat": 4,
 "nbformat_minor": 2
}
